{
 "cells": [
  {
   "cell_type": "code",
   "execution_count": 1,
   "metadata": {},
   "outputs": [
    {
     "name": "stdout",
     "output_type": "stream",
     "text": [
      "Requirement already satisfied: roboflow in c:\\users\\felipe.narvaez\\documents\\codigo\\venv\\lib\\site-packages (1.0.9)\n",
      "Requirement already satisfied: certifi==2022.12.7 in c:\\users\\felipe.narvaez\\documents\\codigo\\venv\\lib\\site-packages (from roboflow) (2022.12.7)\n",
      "Requirement already satisfied: chardet==4.0.0 in c:\\users\\felipe.narvaez\\documents\\codigo\\venv\\lib\\site-packages (from roboflow) (4.0.0)\n",
      "Requirement already satisfied: cycler==0.10.0 in c:\\users\\felipe.narvaez\\documents\\codigo\\venv\\lib\\site-packages (from roboflow) (0.10.0)\n",
      "Requirement already satisfied: idna==2.10 in c:\\users\\felipe.narvaez\\documents\\codigo\\venv\\lib\\site-packages (from roboflow) (2.10)\n",
      "Requirement already satisfied: kiwisolver>=1.3.1 in c:\\users\\felipe.narvaez\\documents\\codigo\\venv\\lib\\site-packages (from roboflow) (1.4.4)\n",
      "Requirement already satisfied: matplotlib in c:\\users\\felipe.narvaez\\documents\\codigo\\venv\\lib\\site-packages (from roboflow) (3.7.1)\n",
      "Requirement already satisfied: numpy>=1.18.5 in c:\\users\\felipe.narvaez\\documents\\codigo\\venv\\lib\\site-packages (from roboflow) (1.24.3)\n",
      "Requirement already satisfied: opencv-python>=4.1.2 in c:\\users\\felipe.narvaez\\documents\\codigo\\venv\\lib\\site-packages (from roboflow) (4.7.0.72)\n",
      "Requirement already satisfied: Pillow>=7.1.2 in c:\\users\\felipe.narvaez\\documents\\codigo\\venv\\lib\\site-packages (from roboflow) (9.5.0)\n",
      "Requirement already satisfied: pyparsing==2.4.7 in c:\\users\\felipe.narvaez\\documents\\codigo\\venv\\lib\\site-packages (from roboflow) (2.4.7)\n",
      "Requirement already satisfied: python-dateutil in c:\\users\\felipe.narvaez\\documents\\codigo\\venv\\lib\\site-packages (from roboflow) (2.8.2)\n",
      "Requirement already satisfied: python-dotenv in c:\\users\\felipe.narvaez\\documents\\codigo\\venv\\lib\\site-packages (from roboflow) (1.0.0)\n",
      "Requirement already satisfied: requests in c:\\users\\felipe.narvaez\\documents\\codigo\\venv\\lib\\site-packages (from roboflow) (2.30.0)\n",
      "Requirement already satisfied: six in c:\\users\\felipe.narvaez\\documents\\codigo\\venv\\lib\\site-packages (from roboflow) (1.16.0)\n",
      "Requirement already satisfied: urllib3>=1.26.6 in c:\\users\\felipe.narvaez\\documents\\codigo\\venv\\lib\\site-packages (from roboflow) (1.26.15)\n",
      "Requirement already satisfied: wget in c:\\users\\felipe.narvaez\\documents\\codigo\\venv\\lib\\site-packages (from roboflow) (3.2)\n",
      "Requirement already satisfied: tqdm>=4.41.0 in c:\\users\\felipe.narvaez\\documents\\codigo\\venv\\lib\\site-packages (from roboflow) (4.65.0)\n",
      "Requirement already satisfied: PyYAML>=5.3.1 in c:\\users\\felipe.narvaez\\documents\\codigo\\venv\\lib\\site-packages (from roboflow) (6.0)\n",
      "Requirement already satisfied: requests-toolbelt in c:\\users\\felipe.narvaez\\documents\\codigo\\venv\\lib\\site-packages (from roboflow) (1.0.0)\n",
      "Requirement already satisfied: colorama in c:\\users\\felipe.narvaez\\documents\\codigo\\venv\\lib\\site-packages (from tqdm>=4.41.0->roboflow) (0.4.6)\n",
      "Requirement already satisfied: contourpy>=1.0.1 in c:\\users\\felipe.narvaez\\documents\\codigo\\venv\\lib\\site-packages (from matplotlib->roboflow) (1.0.7)\n",
      "Requirement already satisfied: fonttools>=4.22.0 in c:\\users\\felipe.narvaez\\documents\\codigo\\venv\\lib\\site-packages (from matplotlib->roboflow) (4.39.4)\n",
      "Requirement already satisfied: packaging>=20.0 in c:\\users\\felipe.narvaez\\documents\\codigo\\venv\\lib\\site-packages (from matplotlib->roboflow) (23.1)\n",
      "Requirement already satisfied: importlib-resources>=3.2.0 in c:\\users\\felipe.narvaez\\documents\\codigo\\venv\\lib\\site-packages (from matplotlib->roboflow) (5.12.0)\n",
      "Requirement already satisfied: charset-normalizer<4,>=2 in c:\\users\\felipe.narvaez\\documents\\codigo\\venv\\lib\\site-packages (from requests->roboflow) (3.1.0)\n",
      "Requirement already satisfied: zipp>=3.1.0 in c:\\users\\felipe.narvaez\\documents\\codigo\\venv\\lib\\site-packages (from importlib-resources>=3.2.0->matplotlib->roboflow) (3.15.0)\n"
     ]
    }
   ],
   "source": [
    "!pip install roboflow\n",
    "!pip install ultralytics<=8.0.20"
   ]
  },
  {
   "cell_type": "code",
   "execution_count": 2,
   "metadata": {},
   "outputs": [
    {
     "name": "stdout",
     "output_type": "stream",
     "text": [
      "loading Roboflow workspace...\n",
      "loading Roboflow project...\n",
      "Dependency ultralytics<=8.0.20 is required but found version=8.0.102, to fix: `pip install ultralytics<=8.0.20`\n",
      "Downloading Dataset Version Zip in fruits-opencv-1 to yolov8: 100% [9528290 / 9528290] bytes\n"
     ]
    },
    {
     "name": "stderr",
     "output_type": "stream",
     "text": [
      "Extracting Dataset Version Zip to fruits-opencv-1 in yolov8:: 100%|██████████| 470/470 [00:00<00:00, 571.22it/s]\n"
     ]
    }
   ],
   "source": [
    "\n",
    "\n",
    "from roboflow import Roboflow\n",
    "rf = Roboflow(api_key=\"eBLEe8HiLRFuZRLd9N0F\")\n",
    "project = rf.workspace(\"workspace-ghkys\").project(\"fruits-opencv\")\n",
    "dataset = project.version(1).download(\"yolov8\")\n"
   ]
  },
  {
   "cell_type": "code",
   "execution_count": 3,
   "metadata": {},
   "outputs": [
    {
     "name": "stdout",
     "output_type": "stream",
     "text": [
      "c:\\Users\\felipe.narvaez\\Documents\\Codigo\n"
     ]
    }
   ],
   "source": [
    "import os\n",
    "HOME = os.getcwd()\n",
    "print(HOME)"
   ]
  },
  {
   "cell_type": "code",
   "execution_count": 4,
   "metadata": {},
   "outputs": [
    {
     "name": "stdout",
     "output_type": "stream",
     "text": [
      "^C\n"
     ]
    }
   ],
   "source": [
    "!yolo task=detect mode=train model=yolov8s.pt data={dataset.location}/data.yaml epochs=25 imgsz=800"
   ]
  },
  {
   "cell_type": "code",
   "execution_count": null,
   "metadata": {},
   "outputs": [],
   "source": [
    "from IPython.display import Image, display\n",
    "%cd {HOME}\n",
    "Image(filename=f'{HOME}\\runs\\detect\\train\\consufion_matrix.png',width=600)"
   ]
  }
 ],
 "metadata": {
  "kernelspec": {
   "display_name": "venv",
   "language": "python",
   "name": "python3"
  },
  "language_info": {
   "codemirror_mode": {
    "name": "ipython",
    "version": 3
   },
   "file_extension": ".py",
   "mimetype": "text/x-python",
   "name": "python",
   "nbconvert_exporter": "python",
   "pygments_lexer": "ipython3",
   "version": "3.8.10"
  },
  "orig_nbformat": 4
 },
 "nbformat": 4,
 "nbformat_minor": 2
}
